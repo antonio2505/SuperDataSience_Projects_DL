{
  "nbformat": 4,
  "nbformat_minor": 0,
  "metadata": {
    "colab": {
      "name": "1. Customer Churn with ANNs.ipynb",
      "provenance": [],
      "authorship_tag": "ABX9TyOlgv4igfgL1Bq73NkXIdi5",
      "include_colab_link": true
    },
    "kernelspec": {
      "name": "python3",
      "display_name": "Python 3"
    },
    "language_info": {
      "name": "python"
    }
  },
  "cells": [
    {
      "cell_type": "markdown",
      "metadata": {
        "id": "view-in-github",
        "colab_type": "text"
      },
      "source": [
        "<a href=\"https://colab.research.google.com/github/antonio2505/SuperDataSience_Projects_DL/blob/main/1_Customer_Churn_with_ANNs.ipynb\" target=\"_parent\"><img src=\"https://colab.research.google.com/assets/colab-badge.svg\" alt=\"Open In Colab\"/></a>"
      ]
    },
    {
      "cell_type": "markdown",
      "metadata": {
        "id": "NpY9QpSpaOTa"
      },
      "source": [
        "# Problem Statement\n",
        "# #1 Churn Modelling Problem\n",
        "\n",
        "In this part you will be solving a data analytics challenge for a bank. You will be given a dataset with a large sample of the bank's customers. To make this dataset, the bank gathered information such as customer id, credit score, gender, age, tenure, balance, if the customer is active, has a credit card, etc. During a period of 6 months, the bank observed if these customers left or stayed in the bank.\n",
        "\n",
        "Your goal is to make an Artificial Neural Network that can predict, based on geo-demographical and transactional information given above, if any inpidual customer will leave the bank or stay (customer churn). Besides, you are asked to rank all the customers of the bank, based on their probability of leaving. To do that, you will need to use the right Deep Learning model, one that is based on a probabilistic approach.\n",
        "\n",
        "If you succeed in this project, you will create significant added value to the bank. By applying your Deep Learning model the bank may significantly reduce customer churn."
      ]
    },
    {
      "cell_type": "markdown",
      "metadata": {
        "id": "P1i3PwPacHXl"
      },
      "source": [
        "**Predict** if the Customer will or not the Bank"
      ]
    },
    {
      "cell_type": "markdown",
      "metadata": {
        "id": "9EVTcmiz5EWY"
      },
      "source": [
        "## PART #1: DATA PREPROCESSING"
      ]
    },
    {
      "cell_type": "markdown",
      "metadata": {
        "id": "bjIF1Nr_bnhx"
      },
      "source": [
        "## IMPORT LIBRARIES"
      ]
    },
    {
      "cell_type": "code",
      "metadata": {
        "id": "0BypP49QaSVo"
      },
      "source": [
        "#!pip install theano"
      ],
      "execution_count": 1,
      "outputs": []
    },
    {
      "cell_type": "code",
      "metadata": {
        "id": "lxOpoLIka22h"
      },
      "source": [
        "# Importing the libraries\n",
        "import numpy as np\n",
        "import matplotlib.pyplot as plt\n",
        "import pandas as pd"
      ],
      "execution_count": 2,
      "outputs": []
    },
    {
      "cell_type": "markdown",
      "metadata": {
        "id": "BTfuNykHcd4E"
      },
      "source": [
        "# IMPORT THE DATASET"
      ]
    },
    {
      "cell_type": "code",
      "metadata": {
        "id": "C-UswCv-gUzT"
      },
      "source": [
        "#from google.colab import files\n",
        "#file = files.upload()"
      ],
      "execution_count": 3,
      "outputs": []
    },
    {
      "cell_type": "code",
      "metadata": {
        "id": "O6ZcQTFlclzn"
      },
      "source": [
        "dataset = pd.read_csv('Churn_Modelling.csv')\n"
      ],
      "execution_count": 4,
      "outputs": []
    },
    {
      "cell_type": "code",
      "metadata": {
        "colab": {
          "base_uri": "https://localhost:8080/",
          "height": 131
        },
        "id": "V7_IfGLIhMY2",
        "outputId": "9201dc7e-a0a8-405f-fede-855d88c0d46d"
      },
      "source": [
        "dataset.head(2)"
      ],
      "execution_count": 5,
      "outputs": [
        {
          "output_type": "execute_result",
          "data": {
            "text/html": [
              "<div>\n",
              "<style scoped>\n",
              "    .dataframe tbody tr th:only-of-type {\n",
              "        vertical-align: middle;\n",
              "    }\n",
              "\n",
              "    .dataframe tbody tr th {\n",
              "        vertical-align: top;\n",
              "    }\n",
              "\n",
              "    .dataframe thead th {\n",
              "        text-align: right;\n",
              "    }\n",
              "</style>\n",
              "<table border=\"1\" class=\"dataframe\">\n",
              "  <thead>\n",
              "    <tr style=\"text-align: right;\">\n",
              "      <th></th>\n",
              "      <th>RowNumber</th>\n",
              "      <th>CustomerId</th>\n",
              "      <th>Surname</th>\n",
              "      <th>CreditScore</th>\n",
              "      <th>Geography</th>\n",
              "      <th>Gender</th>\n",
              "      <th>Age</th>\n",
              "      <th>Tenure</th>\n",
              "      <th>Balance</th>\n",
              "      <th>NumOfProducts</th>\n",
              "      <th>HasCrCard</th>\n",
              "      <th>IsActiveMember</th>\n",
              "      <th>EstimatedSalary</th>\n",
              "      <th>Exited</th>\n",
              "    </tr>\n",
              "  </thead>\n",
              "  <tbody>\n",
              "    <tr>\n",
              "      <th>0</th>\n",
              "      <td>1</td>\n",
              "      <td>15634602</td>\n",
              "      <td>Hargrave</td>\n",
              "      <td>619</td>\n",
              "      <td>France</td>\n",
              "      <td>Female</td>\n",
              "      <td>42</td>\n",
              "      <td>2</td>\n",
              "      <td>0.00</td>\n",
              "      <td>1</td>\n",
              "      <td>1</td>\n",
              "      <td>1</td>\n",
              "      <td>101348.88</td>\n",
              "      <td>1</td>\n",
              "    </tr>\n",
              "    <tr>\n",
              "      <th>1</th>\n",
              "      <td>2</td>\n",
              "      <td>15647311</td>\n",
              "      <td>Hill</td>\n",
              "      <td>608</td>\n",
              "      <td>Spain</td>\n",
              "      <td>Female</td>\n",
              "      <td>41</td>\n",
              "      <td>1</td>\n",
              "      <td>83807.86</td>\n",
              "      <td>1</td>\n",
              "      <td>0</td>\n",
              "      <td>1</td>\n",
              "      <td>112542.58</td>\n",
              "      <td>0</td>\n",
              "    </tr>\n",
              "  </tbody>\n",
              "</table>\n",
              "</div>"
            ],
            "text/plain": [
              "   RowNumber  CustomerId   Surname  ...  IsActiveMember EstimatedSalary Exited\n",
              "0          1    15634602  Hargrave  ...               1       101348.88      1\n",
              "1          2    15647311      Hill  ...               1       112542.58      0\n",
              "\n",
              "[2 rows x 14 columns]"
            ]
          },
          "metadata": {
            "tags": []
          },
          "execution_count": 5
        }
      ]
    },
    {
      "cell_type": "code",
      "metadata": {
        "id": "gkT8As5irl_f"
      },
      "source": [
        ""
      ],
      "execution_count": 5,
      "outputs": []
    },
    {
      "cell_type": "code",
      "metadata": {
        "colab": {
          "base_uri": "https://localhost:8080/",
          "height": 439
        },
        "id": "xZOBczirsAom",
        "outputId": "e45c6581-0378-41c4-edf5-f54c0adbd681"
      },
      "source": [
        "dataset"
      ],
      "execution_count": 6,
      "outputs": [
        {
          "output_type": "execute_result",
          "data": {
            "text/html": [
              "<div>\n",
              "<style scoped>\n",
              "    .dataframe tbody tr th:only-of-type {\n",
              "        vertical-align: middle;\n",
              "    }\n",
              "\n",
              "    .dataframe tbody tr th {\n",
              "        vertical-align: top;\n",
              "    }\n",
              "\n",
              "    .dataframe thead th {\n",
              "        text-align: right;\n",
              "    }\n",
              "</style>\n",
              "<table border=\"1\" class=\"dataframe\">\n",
              "  <thead>\n",
              "    <tr style=\"text-align: right;\">\n",
              "      <th></th>\n",
              "      <th>RowNumber</th>\n",
              "      <th>CustomerId</th>\n",
              "      <th>Surname</th>\n",
              "      <th>CreditScore</th>\n",
              "      <th>Geography</th>\n",
              "      <th>Gender</th>\n",
              "      <th>Age</th>\n",
              "      <th>Tenure</th>\n",
              "      <th>Balance</th>\n",
              "      <th>NumOfProducts</th>\n",
              "      <th>HasCrCard</th>\n",
              "      <th>IsActiveMember</th>\n",
              "      <th>EstimatedSalary</th>\n",
              "      <th>Exited</th>\n",
              "    </tr>\n",
              "  </thead>\n",
              "  <tbody>\n",
              "    <tr>\n",
              "      <th>0</th>\n",
              "      <td>1</td>\n",
              "      <td>15634602</td>\n",
              "      <td>Hargrave</td>\n",
              "      <td>619</td>\n",
              "      <td>France</td>\n",
              "      <td>Female</td>\n",
              "      <td>42</td>\n",
              "      <td>2</td>\n",
              "      <td>0.00</td>\n",
              "      <td>1</td>\n",
              "      <td>1</td>\n",
              "      <td>1</td>\n",
              "      <td>101348.88</td>\n",
              "      <td>1</td>\n",
              "    </tr>\n",
              "    <tr>\n",
              "      <th>1</th>\n",
              "      <td>2</td>\n",
              "      <td>15647311</td>\n",
              "      <td>Hill</td>\n",
              "      <td>608</td>\n",
              "      <td>Spain</td>\n",
              "      <td>Female</td>\n",
              "      <td>41</td>\n",
              "      <td>1</td>\n",
              "      <td>83807.86</td>\n",
              "      <td>1</td>\n",
              "      <td>0</td>\n",
              "      <td>1</td>\n",
              "      <td>112542.58</td>\n",
              "      <td>0</td>\n",
              "    </tr>\n",
              "    <tr>\n",
              "      <th>2</th>\n",
              "      <td>3</td>\n",
              "      <td>15619304</td>\n",
              "      <td>Onio</td>\n",
              "      <td>502</td>\n",
              "      <td>France</td>\n",
              "      <td>Female</td>\n",
              "      <td>42</td>\n",
              "      <td>8</td>\n",
              "      <td>159660.80</td>\n",
              "      <td>3</td>\n",
              "      <td>1</td>\n",
              "      <td>0</td>\n",
              "      <td>113931.57</td>\n",
              "      <td>1</td>\n",
              "    </tr>\n",
              "    <tr>\n",
              "      <th>3</th>\n",
              "      <td>4</td>\n",
              "      <td>15701354</td>\n",
              "      <td>Boni</td>\n",
              "      <td>699</td>\n",
              "      <td>France</td>\n",
              "      <td>Female</td>\n",
              "      <td>39</td>\n",
              "      <td>1</td>\n",
              "      <td>0.00</td>\n",
              "      <td>2</td>\n",
              "      <td>0</td>\n",
              "      <td>0</td>\n",
              "      <td>93826.63</td>\n",
              "      <td>0</td>\n",
              "    </tr>\n",
              "    <tr>\n",
              "      <th>4</th>\n",
              "      <td>5</td>\n",
              "      <td>15737888</td>\n",
              "      <td>Mitchell</td>\n",
              "      <td>850</td>\n",
              "      <td>Spain</td>\n",
              "      <td>Female</td>\n",
              "      <td>43</td>\n",
              "      <td>2</td>\n",
              "      <td>125510.82</td>\n",
              "      <td>1</td>\n",
              "      <td>1</td>\n",
              "      <td>1</td>\n",
              "      <td>79084.10</td>\n",
              "      <td>0</td>\n",
              "    </tr>\n",
              "    <tr>\n",
              "      <th>...</th>\n",
              "      <td>...</td>\n",
              "      <td>...</td>\n",
              "      <td>...</td>\n",
              "      <td>...</td>\n",
              "      <td>...</td>\n",
              "      <td>...</td>\n",
              "      <td>...</td>\n",
              "      <td>...</td>\n",
              "      <td>...</td>\n",
              "      <td>...</td>\n",
              "      <td>...</td>\n",
              "      <td>...</td>\n",
              "      <td>...</td>\n",
              "      <td>...</td>\n",
              "    </tr>\n",
              "    <tr>\n",
              "      <th>9995</th>\n",
              "      <td>9996</td>\n",
              "      <td>15606229</td>\n",
              "      <td>Obijiaku</td>\n",
              "      <td>771</td>\n",
              "      <td>France</td>\n",
              "      <td>Male</td>\n",
              "      <td>39</td>\n",
              "      <td>5</td>\n",
              "      <td>0.00</td>\n",
              "      <td>2</td>\n",
              "      <td>1</td>\n",
              "      <td>0</td>\n",
              "      <td>96270.64</td>\n",
              "      <td>0</td>\n",
              "    </tr>\n",
              "    <tr>\n",
              "      <th>9996</th>\n",
              "      <td>9997</td>\n",
              "      <td>15569892</td>\n",
              "      <td>Johnstone</td>\n",
              "      <td>516</td>\n",
              "      <td>France</td>\n",
              "      <td>Male</td>\n",
              "      <td>35</td>\n",
              "      <td>10</td>\n",
              "      <td>57369.61</td>\n",
              "      <td>1</td>\n",
              "      <td>1</td>\n",
              "      <td>1</td>\n",
              "      <td>101699.77</td>\n",
              "      <td>0</td>\n",
              "    </tr>\n",
              "    <tr>\n",
              "      <th>9997</th>\n",
              "      <td>9998</td>\n",
              "      <td>15584532</td>\n",
              "      <td>Liu</td>\n",
              "      <td>709</td>\n",
              "      <td>France</td>\n",
              "      <td>Female</td>\n",
              "      <td>36</td>\n",
              "      <td>7</td>\n",
              "      <td>0.00</td>\n",
              "      <td>1</td>\n",
              "      <td>0</td>\n",
              "      <td>1</td>\n",
              "      <td>42085.58</td>\n",
              "      <td>1</td>\n",
              "    </tr>\n",
              "    <tr>\n",
              "      <th>9998</th>\n",
              "      <td>9999</td>\n",
              "      <td>15682355</td>\n",
              "      <td>Sabbatini</td>\n",
              "      <td>772</td>\n",
              "      <td>Germany</td>\n",
              "      <td>Male</td>\n",
              "      <td>42</td>\n",
              "      <td>3</td>\n",
              "      <td>75075.31</td>\n",
              "      <td>2</td>\n",
              "      <td>1</td>\n",
              "      <td>0</td>\n",
              "      <td>92888.52</td>\n",
              "      <td>1</td>\n",
              "    </tr>\n",
              "    <tr>\n",
              "      <th>9999</th>\n",
              "      <td>10000</td>\n",
              "      <td>15628319</td>\n",
              "      <td>Walker</td>\n",
              "      <td>792</td>\n",
              "      <td>France</td>\n",
              "      <td>Female</td>\n",
              "      <td>28</td>\n",
              "      <td>4</td>\n",
              "      <td>130142.79</td>\n",
              "      <td>1</td>\n",
              "      <td>1</td>\n",
              "      <td>0</td>\n",
              "      <td>38190.78</td>\n",
              "      <td>0</td>\n",
              "    </tr>\n",
              "  </tbody>\n",
              "</table>\n",
              "<p>10000 rows × 14 columns</p>\n",
              "</div>"
            ],
            "text/plain": [
              "      RowNumber  CustomerId    Surname  ...  IsActiveMember EstimatedSalary Exited\n",
              "0             1    15634602   Hargrave  ...               1       101348.88      1\n",
              "1             2    15647311       Hill  ...               1       112542.58      0\n",
              "2             3    15619304       Onio  ...               0       113931.57      1\n",
              "3             4    15701354       Boni  ...               0        93826.63      0\n",
              "4             5    15737888   Mitchell  ...               1        79084.10      0\n",
              "...         ...         ...        ...  ...             ...             ...    ...\n",
              "9995       9996    15606229   Obijiaku  ...               0        96270.64      0\n",
              "9996       9997    15569892  Johnstone  ...               1       101699.77      0\n",
              "9997       9998    15584532        Liu  ...               1        42085.58      1\n",
              "9998       9999    15682355  Sabbatini  ...               0        92888.52      1\n",
              "9999      10000    15628319     Walker  ...               0        38190.78      0\n",
              "\n",
              "[10000 rows x 14 columns]"
            ]
          },
          "metadata": {
            "tags": []
          },
          "execution_count": 6
        }
      ]
    },
    {
      "cell_type": "code",
      "metadata": {
        "id": "4wxpid3Pymwh"
      },
      "source": [
        "dataset['Gender'] = dataset['Gender'].apply(lambda x:1 if x=='Female' else 0)"
      ],
      "execution_count": 7,
      "outputs": []
    },
    {
      "cell_type": "code",
      "metadata": {
        "colab": {
          "base_uri": "https://localhost:8080/",
          "height": 439
        },
        "id": "8EikWlmtsAtA",
        "outputId": "d61d26a4-aa8f-4b94-cf36-97fecd3d3a3b"
      },
      "source": [
        "dataset"
      ],
      "execution_count": 8,
      "outputs": [
        {
          "output_type": "execute_result",
          "data": {
            "text/html": [
              "<div>\n",
              "<style scoped>\n",
              "    .dataframe tbody tr th:only-of-type {\n",
              "        vertical-align: middle;\n",
              "    }\n",
              "\n",
              "    .dataframe tbody tr th {\n",
              "        vertical-align: top;\n",
              "    }\n",
              "\n",
              "    .dataframe thead th {\n",
              "        text-align: right;\n",
              "    }\n",
              "</style>\n",
              "<table border=\"1\" class=\"dataframe\">\n",
              "  <thead>\n",
              "    <tr style=\"text-align: right;\">\n",
              "      <th></th>\n",
              "      <th>RowNumber</th>\n",
              "      <th>CustomerId</th>\n",
              "      <th>Surname</th>\n",
              "      <th>CreditScore</th>\n",
              "      <th>Geography</th>\n",
              "      <th>Gender</th>\n",
              "      <th>Age</th>\n",
              "      <th>Tenure</th>\n",
              "      <th>Balance</th>\n",
              "      <th>NumOfProducts</th>\n",
              "      <th>HasCrCard</th>\n",
              "      <th>IsActiveMember</th>\n",
              "      <th>EstimatedSalary</th>\n",
              "      <th>Exited</th>\n",
              "    </tr>\n",
              "  </thead>\n",
              "  <tbody>\n",
              "    <tr>\n",
              "      <th>0</th>\n",
              "      <td>1</td>\n",
              "      <td>15634602</td>\n",
              "      <td>Hargrave</td>\n",
              "      <td>619</td>\n",
              "      <td>France</td>\n",
              "      <td>1</td>\n",
              "      <td>42</td>\n",
              "      <td>2</td>\n",
              "      <td>0.00</td>\n",
              "      <td>1</td>\n",
              "      <td>1</td>\n",
              "      <td>1</td>\n",
              "      <td>101348.88</td>\n",
              "      <td>1</td>\n",
              "    </tr>\n",
              "    <tr>\n",
              "      <th>1</th>\n",
              "      <td>2</td>\n",
              "      <td>15647311</td>\n",
              "      <td>Hill</td>\n",
              "      <td>608</td>\n",
              "      <td>Spain</td>\n",
              "      <td>1</td>\n",
              "      <td>41</td>\n",
              "      <td>1</td>\n",
              "      <td>83807.86</td>\n",
              "      <td>1</td>\n",
              "      <td>0</td>\n",
              "      <td>1</td>\n",
              "      <td>112542.58</td>\n",
              "      <td>0</td>\n",
              "    </tr>\n",
              "    <tr>\n",
              "      <th>2</th>\n",
              "      <td>3</td>\n",
              "      <td>15619304</td>\n",
              "      <td>Onio</td>\n",
              "      <td>502</td>\n",
              "      <td>France</td>\n",
              "      <td>1</td>\n",
              "      <td>42</td>\n",
              "      <td>8</td>\n",
              "      <td>159660.80</td>\n",
              "      <td>3</td>\n",
              "      <td>1</td>\n",
              "      <td>0</td>\n",
              "      <td>113931.57</td>\n",
              "      <td>1</td>\n",
              "    </tr>\n",
              "    <tr>\n",
              "      <th>3</th>\n",
              "      <td>4</td>\n",
              "      <td>15701354</td>\n",
              "      <td>Boni</td>\n",
              "      <td>699</td>\n",
              "      <td>France</td>\n",
              "      <td>1</td>\n",
              "      <td>39</td>\n",
              "      <td>1</td>\n",
              "      <td>0.00</td>\n",
              "      <td>2</td>\n",
              "      <td>0</td>\n",
              "      <td>0</td>\n",
              "      <td>93826.63</td>\n",
              "      <td>0</td>\n",
              "    </tr>\n",
              "    <tr>\n",
              "      <th>4</th>\n",
              "      <td>5</td>\n",
              "      <td>15737888</td>\n",
              "      <td>Mitchell</td>\n",
              "      <td>850</td>\n",
              "      <td>Spain</td>\n",
              "      <td>1</td>\n",
              "      <td>43</td>\n",
              "      <td>2</td>\n",
              "      <td>125510.82</td>\n",
              "      <td>1</td>\n",
              "      <td>1</td>\n",
              "      <td>1</td>\n",
              "      <td>79084.10</td>\n",
              "      <td>0</td>\n",
              "    </tr>\n",
              "    <tr>\n",
              "      <th>...</th>\n",
              "      <td>...</td>\n",
              "      <td>...</td>\n",
              "      <td>...</td>\n",
              "      <td>...</td>\n",
              "      <td>...</td>\n",
              "      <td>...</td>\n",
              "      <td>...</td>\n",
              "      <td>...</td>\n",
              "      <td>...</td>\n",
              "      <td>...</td>\n",
              "      <td>...</td>\n",
              "      <td>...</td>\n",
              "      <td>...</td>\n",
              "      <td>...</td>\n",
              "    </tr>\n",
              "    <tr>\n",
              "      <th>9995</th>\n",
              "      <td>9996</td>\n",
              "      <td>15606229</td>\n",
              "      <td>Obijiaku</td>\n",
              "      <td>771</td>\n",
              "      <td>France</td>\n",
              "      <td>0</td>\n",
              "      <td>39</td>\n",
              "      <td>5</td>\n",
              "      <td>0.00</td>\n",
              "      <td>2</td>\n",
              "      <td>1</td>\n",
              "      <td>0</td>\n",
              "      <td>96270.64</td>\n",
              "      <td>0</td>\n",
              "    </tr>\n",
              "    <tr>\n",
              "      <th>9996</th>\n",
              "      <td>9997</td>\n",
              "      <td>15569892</td>\n",
              "      <td>Johnstone</td>\n",
              "      <td>516</td>\n",
              "      <td>France</td>\n",
              "      <td>0</td>\n",
              "      <td>35</td>\n",
              "      <td>10</td>\n",
              "      <td>57369.61</td>\n",
              "      <td>1</td>\n",
              "      <td>1</td>\n",
              "      <td>1</td>\n",
              "      <td>101699.77</td>\n",
              "      <td>0</td>\n",
              "    </tr>\n",
              "    <tr>\n",
              "      <th>9997</th>\n",
              "      <td>9998</td>\n",
              "      <td>15584532</td>\n",
              "      <td>Liu</td>\n",
              "      <td>709</td>\n",
              "      <td>France</td>\n",
              "      <td>1</td>\n",
              "      <td>36</td>\n",
              "      <td>7</td>\n",
              "      <td>0.00</td>\n",
              "      <td>1</td>\n",
              "      <td>0</td>\n",
              "      <td>1</td>\n",
              "      <td>42085.58</td>\n",
              "      <td>1</td>\n",
              "    </tr>\n",
              "    <tr>\n",
              "      <th>9998</th>\n",
              "      <td>9999</td>\n",
              "      <td>15682355</td>\n",
              "      <td>Sabbatini</td>\n",
              "      <td>772</td>\n",
              "      <td>Germany</td>\n",
              "      <td>0</td>\n",
              "      <td>42</td>\n",
              "      <td>3</td>\n",
              "      <td>75075.31</td>\n",
              "      <td>2</td>\n",
              "      <td>1</td>\n",
              "      <td>0</td>\n",
              "      <td>92888.52</td>\n",
              "      <td>1</td>\n",
              "    </tr>\n",
              "    <tr>\n",
              "      <th>9999</th>\n",
              "      <td>10000</td>\n",
              "      <td>15628319</td>\n",
              "      <td>Walker</td>\n",
              "      <td>792</td>\n",
              "      <td>France</td>\n",
              "      <td>1</td>\n",
              "      <td>28</td>\n",
              "      <td>4</td>\n",
              "      <td>130142.79</td>\n",
              "      <td>1</td>\n",
              "      <td>1</td>\n",
              "      <td>0</td>\n",
              "      <td>38190.78</td>\n",
              "      <td>0</td>\n",
              "    </tr>\n",
              "  </tbody>\n",
              "</table>\n",
              "<p>10000 rows × 14 columns</p>\n",
              "</div>"
            ],
            "text/plain": [
              "      RowNumber  CustomerId    Surname  ...  IsActiveMember EstimatedSalary  Exited\n",
              "0             1    15634602   Hargrave  ...               1       101348.88       1\n",
              "1             2    15647311       Hill  ...               1       112542.58       0\n",
              "2             3    15619304       Onio  ...               0       113931.57       1\n",
              "3             4    15701354       Boni  ...               0        93826.63       0\n",
              "4             5    15737888   Mitchell  ...               1        79084.10       0\n",
              "...         ...         ...        ...  ...             ...             ...     ...\n",
              "9995       9996    15606229   Obijiaku  ...               0        96270.64       0\n",
              "9996       9997    15569892  Johnstone  ...               1       101699.77       0\n",
              "9997       9998    15584532        Liu  ...               1        42085.58       1\n",
              "9998       9999    15682355  Sabbatini  ...               0        92888.52       1\n",
              "9999      10000    15628319     Walker  ...               0        38190.78       0\n",
              "\n",
              "[10000 rows x 14 columns]"
            ]
          },
          "metadata": {
            "tags": []
          },
          "execution_count": 8
        }
      ]
    },
    {
      "cell_type": "code",
      "metadata": {
        "id": "_vB7oCm4hMca"
      },
      "source": [
        "x = dataset.iloc[:, 3: 13].values\n",
        "y = dataset.iloc[:, 13].values\n"
      ],
      "execution_count": 9,
      "outputs": []
    },
    {
      "cell_type": "code",
      "metadata": {
        "colab": {
          "base_uri": "https://localhost:8080/"
        },
        "id": "tdSAkLplhMfM",
        "outputId": "60b8184d-98dc-4072-e62d-b6c37abed2bc"
      },
      "source": [
        "y"
      ],
      "execution_count": 10,
      "outputs": [
        {
          "output_type": "execute_result",
          "data": {
            "text/plain": [
              "array([1, 0, 1, ..., 1, 1, 0])"
            ]
          },
          "metadata": {
            "tags": []
          },
          "execution_count": 10
        }
      ]
    },
    {
      "cell_type": "code",
      "metadata": {
        "colab": {
          "base_uri": "https://localhost:8080/"
        },
        "id": "3cyFceYSjWdI",
        "outputId": "4c735dc0-c8c9-4f92-af9b-45623e0b1a7b"
      },
      "source": [
        "x"
      ],
      "execution_count": 11,
      "outputs": [
        {
          "output_type": "execute_result",
          "data": {
            "text/plain": [
              "array([[619, 'France', 1, ..., 1, 1, 101348.88],\n",
              "       [608, 'Spain', 1, ..., 0, 1, 112542.58],\n",
              "       [502, 'France', 1, ..., 1, 0, 113931.57],\n",
              "       ...,\n",
              "       [709, 'France', 1, ..., 0, 1, 42085.58],\n",
              "       [772, 'Germany', 0, ..., 1, 0, 92888.52],\n",
              "       [792, 'France', 1, ..., 1, 0, 38190.78]], dtype=object)"
            ]
          },
          "metadata": {
            "tags": []
          },
          "execution_count": 11
        }
      ]
    },
    {
      "cell_type": "code",
      "metadata": {
        "id": "x5W0lEmjjWhZ"
      },
      "source": [
        ""
      ],
      "execution_count": 11,
      "outputs": []
    },
    {
      "cell_type": "markdown",
      "metadata": {
        "id": "EuqCAPHLjb3N"
      },
      "source": [
        "## Encoding the Categorical Data"
      ]
    },
    {
      "cell_type": "code",
      "metadata": {
        "id": "7GoJeSNVyOCF"
      },
      "source": [
        ""
      ],
      "execution_count": 11,
      "outputs": []
    },
    {
      "cell_type": "code",
      "metadata": {
        "id": "hibRx-jVqAgi"
      },
      "source": [
        "\n",
        "from sklearn.compose import ColumnTransformer\n",
        "from sklearn.preprocessing import OneHotEncoder\n",
        "\n",
        "ct = ColumnTransformer(transformers=[('encoder', OneHotEncoder(), [1])], remainder='passthrough')\n",
        "x = np.array(ct.fit_transform(x))"
      ],
      "execution_count": 12,
      "outputs": []
    },
    {
      "cell_type": "code",
      "metadata": {
        "colab": {
          "base_uri": "https://localhost:8080/"
        },
        "id": "TWRwo1h4t8j-",
        "outputId": "3b651861-d13c-4824-ff53-bb9cc0b0c5c5"
      },
      "source": [
        "print(x)"
      ],
      "execution_count": 13,
      "outputs": [
        {
          "output_type": "stream",
          "text": [
            "[[1.0 0.0 0.0 ... 1 1 101348.88]\n",
            " [0.0 0.0 1.0 ... 0 1 112542.58]\n",
            " [1.0 0.0 0.0 ... 1 0 113931.57]\n",
            " ...\n",
            " [1.0 0.0 0.0 ... 0 1 42085.58]\n",
            " [0.0 1.0 0.0 ... 1 0 92888.52]\n",
            " [1.0 0.0 0.0 ... 1 0 38190.78]]\n"
          ],
          "name": "stdout"
        }
      ]
    },
    {
      "cell_type": "code",
      "metadata": {
        "id": "5LJQgEuojkpU"
      },
      "source": [
        ""
      ],
      "execution_count": 13,
      "outputs": []
    },
    {
      "cell_type": "markdown",
      "metadata": {
        "id": "n0WiiK-zfFCV"
      },
      "source": [
        "# Splitting the dataset into the Training set and Test set"
      ]
    },
    {
      "cell_type": "code",
      "metadata": {
        "id": "OG0AzPtZfGQ2"
      },
      "source": [
        "# Splitting the dataset into the Training set and Test set\n",
        "from sklearn.model_selection import train_test_split\n",
        "x_train, x_test, y_train, y_test = train_test_split(x, y, test_size = 0.2, random_state = 0)"
      ],
      "execution_count": 14,
      "outputs": []
    },
    {
      "cell_type": "code",
      "metadata": {
        "colab": {
          "base_uri": "https://localhost:8080/"
        },
        "id": "ACJ9nuTr0Acq",
        "outputId": "db94286d-109a-4620-c665-a2d27c435dee"
      },
      "source": [
        "x_train.shape"
      ],
      "execution_count": 15,
      "outputs": [
        {
          "output_type": "execute_result",
          "data": {
            "text/plain": [
              "(8000, 12)"
            ]
          },
          "metadata": {
            "tags": []
          },
          "execution_count": 15
        }
      ]
    },
    {
      "cell_type": "code",
      "metadata": {
        "colab": {
          "base_uri": "https://localhost:8080/"
        },
        "id": "-jtYyDxR0AhQ",
        "outputId": "230f6c11-002b-4cd7-e7fd-1a446738c574"
      },
      "source": [
        "x_test.shape"
      ],
      "execution_count": 16,
      "outputs": [
        {
          "output_type": "execute_result",
          "data": {
            "text/plain": [
              "(2000, 12)"
            ]
          },
          "metadata": {
            "tags": []
          },
          "execution_count": 16
        }
      ]
    },
    {
      "cell_type": "markdown",
      "metadata": {
        "id": "CbeyyTXHe-e8"
      },
      "source": [
        "# Feature Scaling"
      ]
    },
    {
      "cell_type": "code",
      "metadata": {
        "id": "ALFP3bNQfBG_"
      },
      "source": [
        "# Feature Scaling\n",
        "from sklearn.preprocessing import StandardScaler\n",
        "sc = StandardScaler()\n",
        "x_train = sc.fit_transform(x_train)\n",
        "x_test = sc.transform(x_test)"
      ],
      "execution_count": 17,
      "outputs": []
    },
    {
      "cell_type": "markdown",
      "metadata": {
        "id": "K4DeDd3b4mV-"
      },
      "source": [
        "# PART #2: MAKE THE ANNs"
      ]
    },
    {
      "cell_type": "markdown",
      "metadata": {
        "id": "yFFTOhQ4e5eG"
      },
      "source": [
        "## Importing the keras libraries and Packages"
      ]
    },
    {
      "cell_type": "code",
      "metadata": {
        "id": "HdO5puJ3e80q"
      },
      "source": [
        "import keras\n",
        "from keras.models import Sequential\n",
        "from keras.layers import Dense\n",
        "from keras.layers import Dropout"
      ],
      "execution_count": 18,
      "outputs": []
    },
    {
      "cell_type": "markdown",
      "metadata": {
        "id": "Dh0tTTjp6Ocr"
      },
      "source": [
        "## Training the ANNs"
      ]
    },
    {
      "cell_type": "code",
      "metadata": {
        "id": "HZnWfS9c6ejy"
      },
      "source": [
        "#initializing the ANNs\n",
        "classifier = Sequential()"
      ],
      "execution_count": 19,
      "outputs": []
    },
    {
      "cell_type": "code",
      "metadata": {
        "id": "QQLjt3tA6euY"
      },
      "source": [
        "#Adding the Input Layer and the first Hidden Layer\n",
        "# rectifier for the hidden layer\n",
        "# sigmoid for the output layer\n",
        "classifier.add(Dense(12, activation='relu', kernel_initializer='uniform'))\n",
        "#classifier.add(Dropout(p= 0.1))"
      ],
      "execution_count": 20,
      "outputs": []
    },
    {
      "cell_type": "code",
      "metadata": {
        "id": "zhitfn7P_yXP"
      },
      "source": [
        "#Adding the second Layer\n",
        "classifier.add(Dense(12, activation='relu', kernel_initializer='uniform'))\n",
        "#classifier.add(Dropout(p= 0.1))"
      ],
      "execution_count": 21,
      "outputs": []
    },
    {
      "cell_type": "code",
      "metadata": {
        "id": "g3GbgOVs_yaM"
      },
      "source": [
        "#Adding the Final Layer\n",
        "classifier.add(Dense(1, activation='sigmoid', kernel_initializer='uniform'))"
      ],
      "execution_count": 22,
      "outputs": []
    },
    {
      "cell_type": "code",
      "metadata": {
        "id": "ORszQtCaCb7K"
      },
      "source": [
        "#compile the ANNs \n",
        "classifier.compile(optimizer='adam', loss='binary_crossentropy', metrics=['accuracy'])"
      ],
      "execution_count": 23,
      "outputs": []
    },
    {
      "cell_type": "markdown",
      "metadata": {
        "id": "aZIX-3vcEbkj"
      },
      "source": [
        "## Fitting the ANNs to the Training set"
      ]
    },
    {
      "cell_type": "code",
      "metadata": {
        "id": "QcNR1JRSEpW2",
        "colab": {
          "base_uri": "https://localhost:8080/"
        },
        "outputId": "66c91f07-3f0c-41e0-f662-ea9301caf35a"
      },
      "source": [
        "classifier.fit(x_train, y_train, batch_size=10, epochs=100)"
      ],
      "execution_count": 24,
      "outputs": [
        {
          "output_type": "stream",
          "text": [
            "Epoch 1/100\n",
            "800/800 [==============================] - 20s 876us/step - loss: 0.5382 - accuracy: 0.7953\n",
            "Epoch 2/100\n",
            "800/800 [==============================] - 1s 866us/step - loss: 0.4200 - accuracy: 0.7990\n",
            "Epoch 3/100\n",
            "800/800 [==============================] - 1s 893us/step - loss: 0.4078 - accuracy: 0.8332\n",
            "Epoch 4/100\n",
            "800/800 [==============================] - 1s 883us/step - loss: 0.4042 - accuracy: 0.8374\n",
            "Epoch 5/100\n",
            "800/800 [==============================] - 1s 866us/step - loss: 0.4151 - accuracy: 0.8279\n",
            "Epoch 6/100\n",
            "800/800 [==============================] - 1s 853us/step - loss: 0.4003 - accuracy: 0.8337\n",
            "Epoch 7/100\n",
            "800/800 [==============================] - 1s 830us/step - loss: 0.3965 - accuracy: 0.8387\n",
            "Epoch 8/100\n",
            "800/800 [==============================] - 1s 857us/step - loss: 0.4028 - accuracy: 0.8346\n",
            "Epoch 9/100\n",
            "800/800 [==============================] - 1s 821us/step - loss: 0.3982 - accuracy: 0.8334\n",
            "Epoch 10/100\n",
            "800/800 [==============================] - 1s 901us/step - loss: 0.3948 - accuracy: 0.8359\n",
            "Epoch 11/100\n",
            "800/800 [==============================] - 1s 874us/step - loss: 0.4022 - accuracy: 0.8345\n",
            "Epoch 12/100\n",
            "800/800 [==============================] - 1s 869us/step - loss: 0.4024 - accuracy: 0.8319\n",
            "Epoch 13/100\n",
            "800/800 [==============================] - 1s 858us/step - loss: 0.3890 - accuracy: 0.8399\n",
            "Epoch 14/100\n",
            "800/800 [==============================] - 1s 851us/step - loss: 0.3950 - accuracy: 0.8366\n",
            "Epoch 15/100\n",
            "800/800 [==============================] - 1s 860us/step - loss: 0.3951 - accuracy: 0.8373\n",
            "Epoch 16/100\n",
            "800/800 [==============================] - 1s 829us/step - loss: 0.4021 - accuracy: 0.8298\n",
            "Epoch 17/100\n",
            "800/800 [==============================] - 1s 880us/step - loss: 0.3937 - accuracy: 0.8408\n",
            "Epoch 18/100\n",
            "800/800 [==============================] - 1s 862us/step - loss: 0.3999 - accuracy: 0.8370\n",
            "Epoch 19/100\n",
            "800/800 [==============================] - 1s 867us/step - loss: 0.4036 - accuracy: 0.8321\n",
            "Epoch 20/100\n",
            "800/800 [==============================] - 1s 865us/step - loss: 0.3856 - accuracy: 0.8416\n",
            "Epoch 21/100\n",
            "800/800 [==============================] - 1s 850us/step - loss: 0.3905 - accuracy: 0.8359\n",
            "Epoch 22/100\n",
            "800/800 [==============================] - 1s 851us/step - loss: 0.3954 - accuracy: 0.8383\n",
            "Epoch 23/100\n",
            "800/800 [==============================] - 1s 885us/step - loss: 0.3872 - accuracy: 0.8369\n",
            "Epoch 24/100\n",
            "800/800 [==============================] - 1s 903us/step - loss: 0.3830 - accuracy: 0.8429\n",
            "Epoch 25/100\n",
            "800/800 [==============================] - 1s 870us/step - loss: 0.3882 - accuracy: 0.8443\n",
            "Epoch 26/100\n",
            "800/800 [==============================] - 1s 903us/step - loss: 0.3880 - accuracy: 0.8403\n",
            "Epoch 27/100\n",
            "800/800 [==============================] - 1s 872us/step - loss: 0.4006 - accuracy: 0.8349\n",
            "Epoch 28/100\n",
            "800/800 [==============================] - 1s 901us/step - loss: 0.4000 - accuracy: 0.8348\n",
            "Epoch 29/100\n",
            "800/800 [==============================] - 1s 836us/step - loss: 0.4050 - accuracy: 0.8298\n",
            "Epoch 30/100\n",
            "800/800 [==============================] - 1s 880us/step - loss: 0.3885 - accuracy: 0.8407\n",
            "Epoch 31/100\n",
            "800/800 [==============================] - 1s 889us/step - loss: 0.3827 - accuracy: 0.8455\n",
            "Epoch 32/100\n",
            "800/800 [==============================] - 1s 901us/step - loss: 0.3967 - accuracy: 0.8336\n",
            "Epoch 33/100\n",
            "800/800 [==============================] - 1s 865us/step - loss: 0.3991 - accuracy: 0.8331\n",
            "Epoch 34/100\n",
            "800/800 [==============================] - 1s 854us/step - loss: 0.3877 - accuracy: 0.8440\n",
            "Epoch 35/100\n",
            "800/800 [==============================] - 1s 894us/step - loss: 0.3860 - accuracy: 0.8400\n",
            "Epoch 36/100\n",
            "800/800 [==============================] - 1s 844us/step - loss: 0.3974 - accuracy: 0.8362\n",
            "Epoch 37/100\n",
            "800/800 [==============================] - 1s 856us/step - loss: 0.3934 - accuracy: 0.8344\n",
            "Epoch 38/100\n",
            "800/800 [==============================] - 1s 892us/step - loss: 0.3901 - accuracy: 0.8391\n",
            "Epoch 39/100\n",
            "800/800 [==============================] - 1s 847us/step - loss: 0.3847 - accuracy: 0.8409\n",
            "Epoch 40/100\n",
            "800/800 [==============================] - 1s 843us/step - loss: 0.3769 - accuracy: 0.8470\n",
            "Epoch 41/100\n",
            "800/800 [==============================] - 1s 884us/step - loss: 0.3709 - accuracy: 0.8458\n",
            "Epoch 42/100\n",
            "800/800 [==============================] - 1s 836us/step - loss: 0.3505 - accuracy: 0.8592\n",
            "Epoch 43/100\n",
            "800/800 [==============================] - 1s 846us/step - loss: 0.3420 - accuracy: 0.8612\n",
            "Epoch 44/100\n",
            "800/800 [==============================] - 1s 853us/step - loss: 0.3413 - accuracy: 0.8615\n",
            "Epoch 45/100\n",
            "800/800 [==============================] - 1s 857us/step - loss: 0.3352 - accuracy: 0.8623\n",
            "Epoch 46/100\n",
            "800/800 [==============================] - 1s 858us/step - loss: 0.3340 - accuracy: 0.8624\n",
            "Epoch 47/100\n",
            "800/800 [==============================] - 1s 888us/step - loss: 0.3361 - accuracy: 0.8611\n",
            "Epoch 48/100\n",
            "800/800 [==============================] - 1s 899us/step - loss: 0.3321 - accuracy: 0.8638\n",
            "Epoch 49/100\n",
            "800/800 [==============================] - 1s 850us/step - loss: 0.3308 - accuracy: 0.8698\n",
            "Epoch 50/100\n",
            "800/800 [==============================] - 1s 871us/step - loss: 0.3271 - accuracy: 0.8660\n",
            "Epoch 51/100\n",
            "800/800 [==============================] - 1s 865us/step - loss: 0.3251 - accuracy: 0.8671\n",
            "Epoch 52/100\n",
            "800/800 [==============================] - 1s 850us/step - loss: 0.3256 - accuracy: 0.8649\n",
            "Epoch 53/100\n",
            "800/800 [==============================] - 1s 845us/step - loss: 0.3319 - accuracy: 0.8622\n",
            "Epoch 54/100\n",
            "800/800 [==============================] - 1s 879us/step - loss: 0.3326 - accuracy: 0.8643\n",
            "Epoch 55/100\n",
            "800/800 [==============================] - 1s 845us/step - loss: 0.3303 - accuracy: 0.8647\n",
            "Epoch 56/100\n",
            "800/800 [==============================] - 1s 857us/step - loss: 0.3308 - accuracy: 0.8636\n",
            "Epoch 57/100\n",
            "800/800 [==============================] - 1s 851us/step - loss: 0.3277 - accuracy: 0.8630\n",
            "Epoch 58/100\n",
            "800/800 [==============================] - 1s 856us/step - loss: 0.3205 - accuracy: 0.8691\n",
            "Epoch 59/100\n",
            "800/800 [==============================] - 1s 852us/step - loss: 0.3329 - accuracy: 0.8632\n",
            "Epoch 60/100\n",
            "800/800 [==============================] - 1s 852us/step - loss: 0.3225 - accuracy: 0.8624\n",
            "Epoch 61/100\n",
            "800/800 [==============================] - 1s 839us/step - loss: 0.3181 - accuracy: 0.8693\n",
            "Epoch 62/100\n",
            "800/800 [==============================] - 1s 882us/step - loss: 0.3315 - accuracy: 0.8648\n",
            "Epoch 63/100\n",
            "800/800 [==============================] - 1s 842us/step - loss: 0.3178 - accuracy: 0.8675\n",
            "Epoch 64/100\n",
            "800/800 [==============================] - 1s 854us/step - loss: 0.3239 - accuracy: 0.8669\n",
            "Epoch 65/100\n",
            "800/800 [==============================] - 1s 858us/step - loss: 0.3297 - accuracy: 0.8653\n",
            "Epoch 66/100\n",
            "800/800 [==============================] - 1s 866us/step - loss: 0.3310 - accuracy: 0.8668\n",
            "Epoch 67/100\n",
            "800/800 [==============================] - 1s 902us/step - loss: 0.3320 - accuracy: 0.8666\n",
            "Epoch 68/100\n",
            "800/800 [==============================] - 1s 857us/step - loss: 0.3157 - accuracy: 0.8709\n",
            "Epoch 69/100\n",
            "800/800 [==============================] - 1s 872us/step - loss: 0.3211 - accuracy: 0.8680\n",
            "Epoch 70/100\n",
            "800/800 [==============================] - 1s 847us/step - loss: 0.3240 - accuracy: 0.8688\n",
            "Epoch 71/100\n",
            "800/800 [==============================] - 1s 892us/step - loss: 0.3251 - accuracy: 0.8645\n",
            "Epoch 72/100\n",
            "800/800 [==============================] - 1s 805us/step - loss: 0.3240 - accuracy: 0.8649\n",
            "Epoch 73/100\n",
            "800/800 [==============================] - 1s 837us/step - loss: 0.3139 - accuracy: 0.8708\n",
            "Epoch 74/100\n",
            "800/800 [==============================] - 1s 849us/step - loss: 0.3235 - accuracy: 0.8638\n",
            "Epoch 75/100\n",
            "800/800 [==============================] - 1s 843us/step - loss: 0.3331 - accuracy: 0.8628\n",
            "Epoch 76/100\n",
            "800/800 [==============================] - 1s 841us/step - loss: 0.3202 - accuracy: 0.8706\n",
            "Epoch 77/100\n",
            "800/800 [==============================] - 1s 876us/step - loss: 0.3300 - accuracy: 0.8621\n",
            "Epoch 78/100\n",
            "800/800 [==============================] - 1s 864us/step - loss: 0.3149 - accuracy: 0.8703\n",
            "Epoch 79/100\n",
            "800/800 [==============================] - 1s 850us/step - loss: 0.3200 - accuracy: 0.8685\n",
            "Epoch 80/100\n",
            "800/800 [==============================] - 1s 870us/step - loss: 0.3146 - accuracy: 0.8705\n",
            "Epoch 81/100\n",
            "800/800 [==============================] - 1s 898us/step - loss: 0.3365 - accuracy: 0.8588\n",
            "Epoch 82/100\n",
            "800/800 [==============================] - 1s 865us/step - loss: 0.3109 - accuracy: 0.8747\n",
            "Epoch 83/100\n",
            "800/800 [==============================] - 1s 901us/step - loss: 0.3115 - accuracy: 0.8721\n",
            "Epoch 84/100\n",
            "800/800 [==============================] - 1s 903us/step - loss: 0.3275 - accuracy: 0.8627\n",
            "Epoch 85/100\n",
            "800/800 [==============================] - 1s 882us/step - loss: 0.3215 - accuracy: 0.8657\n",
            "Epoch 86/100\n",
            "800/800 [==============================] - 1s 915us/step - loss: 0.3084 - accuracy: 0.8720\n",
            "Epoch 87/100\n",
            "800/800 [==============================] - 1s 910us/step - loss: 0.3252 - accuracy: 0.8648\n",
            "Epoch 88/100\n",
            "800/800 [==============================] - 1s 871us/step - loss: 0.3211 - accuracy: 0.8665\n",
            "Epoch 89/100\n",
            "800/800 [==============================] - 1s 922us/step - loss: 0.3239 - accuracy: 0.8657\n",
            "Epoch 90/100\n",
            "800/800 [==============================] - 1s 865us/step - loss: 0.3238 - accuracy: 0.8689\n",
            "Epoch 91/100\n",
            "800/800 [==============================] - 1s 902us/step - loss: 0.3122 - accuracy: 0.8758\n",
            "Epoch 92/100\n",
            "800/800 [==============================] - 1s 893us/step - loss: 0.3241 - accuracy: 0.8604\n",
            "Epoch 93/100\n",
            "800/800 [==============================] - 1s 917us/step - loss: 0.3123 - accuracy: 0.8696\n",
            "Epoch 94/100\n",
            "800/800 [==============================] - 1s 910us/step - loss: 0.3198 - accuracy: 0.8679\n",
            "Epoch 95/100\n",
            "800/800 [==============================] - 1s 820us/step - loss: 0.3174 - accuracy: 0.8680\n",
            "Epoch 96/100\n",
            "800/800 [==============================] - 1s 923us/step - loss: 0.3288 - accuracy: 0.8591\n",
            "Epoch 97/100\n",
            "800/800 [==============================] - 1s 865us/step - loss: 0.3200 - accuracy: 0.8675\n",
            "Epoch 98/100\n",
            "800/800 [==============================] - 1s 858us/step - loss: 0.3288 - accuracy: 0.8627\n",
            "Epoch 99/100\n",
            "800/800 [==============================] - 1s 921us/step - loss: 0.3232 - accuracy: 0.8622\n",
            "Epoch 100/100\n",
            "800/800 [==============================] - 1s 874us/step - loss: 0.3186 - accuracy: 0.8665\n"
          ],
          "name": "stdout"
        },
        {
          "output_type": "execute_result",
          "data": {
            "text/plain": [
              "<keras.callbacks.History at 0x7feef9f20d10>"
            ]
          },
          "metadata": {
            "tags": []
          },
          "execution_count": 24
        }
      ]
    },
    {
      "cell_type": "markdown",
      "metadata": {
        "id": "eKMzmmQi6m8N"
      },
      "source": [
        "# PART #3 : MAKING THE PREDICTION AND EVALUATE THE MODEL"
      ]
    },
    {
      "cell_type": "markdown",
      "metadata": {
        "id": "75AoLCQtexUv"
      },
      "source": [
        "# Predicting the Test set *results*"
      ]
    },
    {
      "cell_type": "code",
      "metadata": {
        "id": "Shx2On86e0Nk"
      },
      "source": [
        "# Predicting the Test set results\n",
        "y_pred = classifier.predict(x_test)"
      ],
      "execution_count": 25,
      "outputs": []
    },
    {
      "cell_type": "code",
      "metadata": {
        "id": "h8FT0Vm-G43I",
        "colab": {
          "base_uri": "https://localhost:8080/"
        },
        "outputId": "1e0c3d48-a35e-4a97-bb63-a99cb95e9ca0"
      },
      "source": [
        "y_pred"
      ],
      "execution_count": 26,
      "outputs": [
        {
          "output_type": "execute_result",
          "data": {
            "text/plain": [
              "array([[0.3255089 ],\n",
              "       [0.36211276],\n",
              "       [0.08089092],\n",
              "       ...,\n",
              "       [0.11903554],\n",
              "       [0.3302629 ],\n",
              "       [0.17892978]], dtype=float32)"
            ]
          },
          "metadata": {
            "tags": []
          },
          "execution_count": 26
        }
      ]
    },
    {
      "cell_type": "code",
      "metadata": {
        "id": "AvZjVjyBG8xn"
      },
      "source": [
        "#convert the probability in 0 and 1 form to make the confusion metric\n",
        "y_pred = (y_pred > 0.5)"
      ],
      "execution_count": 28,
      "outputs": []
    },
    {
      "cell_type": "code",
      "metadata": {
        "id": "yuJZX8WTHtK3",
        "colab": {
          "base_uri": "https://localhost:8080/"
        },
        "outputId": "a2dc1365-c56a-4f10-c99f-6b4a53b5dc25"
      },
      "source": [
        "y_pred"
      ],
      "execution_count": 29,
      "outputs": [
        {
          "output_type": "execute_result",
          "data": {
            "text/plain": [
              "array([[False],\n",
              "       [False],\n",
              "       [False],\n",
              "       ...,\n",
              "       [False],\n",
              "       [False],\n",
              "       [False]])"
            ]
          },
          "metadata": {
            "tags": []
          },
          "execution_count": 29
        }
      ]
    },
    {
      "cell_type": "markdown",
      "metadata": {
        "id": "HockcQArepIH"
      },
      "source": [
        "# Making the Confusion Matrix"
      ]
    },
    {
      "cell_type": "code",
      "metadata": {
        "id": "vtji0ku4esmz"
      },
      "source": [
        "# Making the Confusion Matrix\n",
        "from sklearn.metrics import confusion_matrix\n",
        "cm = confusion_matrix(y_test, y_pred)"
      ],
      "execution_count": 30,
      "outputs": []
    },
    {
      "cell_type": "code",
      "metadata": {
        "id": "QXFfgkBKHx1g"
      },
      "source": [
        "import seaborn as sns\n",
        "from sklearn.metrics import accuracy_score, classification_report\n"
      ],
      "execution_count": 31,
      "outputs": []
    },
    {
      "cell_type": "code",
      "metadata": {
        "id": "S8YrrqTqIDCn",
        "colab": {
          "base_uri": "https://localhost:8080/",
          "height": 282
        },
        "outputId": "b2993672-f12f-4d61-8aec-69e18132d2af"
      },
      "source": [
        "sns.heatmap(cm, annot=True, fmt='d')"
      ],
      "execution_count": 32,
      "outputs": [
        {
          "output_type": "execute_result",
          "data": {
            "text/plain": [
              "<matplotlib.axes._subplots.AxesSubplot at 0x7feef93abd50>"
            ]
          },
          "metadata": {
            "tags": []
          },
          "execution_count": 32
        },
        {
          "output_type": "display_data",
          "data": {
            "image/png": "[encoded data removed]",
            "text/plain": [
              "<Figure size 432x288 with 2 Axes>"
            ]
          },
          "metadata": {
            "tags": [],
            "needs_background": "light"
          }
        }
      ]
    },
    {
      "cell_type": "code",
      "metadata": {
        "id": "aA_JcsmdISYG",
        "colab": {
          "base_uri": "https://localhost:8080/"
        },
        "outputId": "3f377b48-b8b0-42d5-b7eb-35fbec0abc9d"
      },
      "source": [
        "accuracy_score(y_test, y_pred)"
      ],
      "execution_count": 33,
      "outputs": [
        {
          "output_type": "execute_result",
          "data": {
            "text/plain": [
              "0.86"
            ]
          },
          "metadata": {
            "tags": []
          },
          "execution_count": 33
        }
      ]
    },
    {
      "cell_type": "code",
      "metadata": {
        "id": "SmlewEuAIJ6L",
        "colab": {
          "base_uri": "https://localhost:8080/"
        },
        "outputId": "5032d2e2-d96d-4838-a051-9f9647d0cd76"
      },
      "source": [
        "print(classification_report(y_test, y_pred))"
      ],
      "execution_count": 34,
      "outputs": [
        {
          "output_type": "stream",
          "text": [
            "              precision    recall  f1-score   support\n",
            "\n",
            "           0       0.90      0.93      0.91      1595\n",
            "           1       0.69      0.57      0.62       405\n",
            "\n",
            "    accuracy                           0.86      2000\n",
            "   macro avg       0.79      0.75      0.77      2000\n",
            "weighted avg       0.85      0.86      0.86      2000\n",
            "\n"
          ],
          "name": "stdout"
        }
      ]
    },
    {
      "cell_type": "code",
      "metadata": {
        "id": "vmZLPU5lJbw4"
      },
      "source": [
        "y_predict = classifier.predict(sc.transform(np.array([[1.0, 0.0, 0.0, 600,0,40,3,60000,2,1,1,50000]])))"
      ],
      "execution_count": 35,
      "outputs": []
    },
    {
      "cell_type": "code",
      "metadata": {
        "id": "1kg9uv2iLhKV"
      },
      "source": [
        "#y = 1 customer leave the bank\n",
        "#y = 0 customer does not leave the bank\n",
        "y_predict = (y_predict > 0.5) # the prediction < 0.5 the customer desnt leave the Bank "
      ],
      "execution_count": 36,
      "outputs": []
    },
    {
      "cell_type": "code",
      "metadata": {
        "id": "JzhmuIJRNysF",
        "colab": {
          "base_uri": "https://localhost:8080/"
        },
        "outputId": "f9e61920-2932-4ea4-90d2-d9da16224cbe"
      },
      "source": [
        "y_predict"
      ],
      "execution_count": 37,
      "outputs": [
        {
          "output_type": "execute_result",
          "data": {
            "text/plain": [
              "array([[False]])"
            ]
          },
          "metadata": {
            "tags": []
          },
          "execution_count": 37
        }
      ]
    },
    {
      "cell_type": "markdown",
      "metadata": {
        "id": "KGdAhAPPQB3x"
      },
      "source": [
        "# PART #4 : EVALUATING, IMPROVING AND TUNING THE MODEL"
      ]
    },
    {
      "cell_type": "markdown",
      "metadata": {
        "id": "uMFk0CNkQZFP"
      },
      "source": [
        "## Evaluating the ANNs"
      ]
    },
    {
      "cell_type": "code",
      "metadata": {
        "id": "LloGeeKmWikF"
      },
      "source": [
        "#from keras.wrappers.scikit_learn import KerasClassifier"
      ],
      "execution_count": null,
      "outputs": []
    },
    {
      "cell_type": "code",
      "metadata": {
        "id": "PETipP2EQsqc"
      },
      "source": [
        "#from keras.wrappers.scikit_learn import KerasClassifier\n",
        "#from sklearn.model_selection import cross_val_score\n",
        "\n",
        "#def buildclassifier():\n",
        "  #classifier = Sequential()\n",
        "  #classifier.add(Dense(12, activation='relu', kernel_initializer='uniform'))\n",
        "  #classifier.add(Dense(12, activation='relu', kernel_initializer='uniform'))\n",
        "  #classifier.add(Dense(1, activation='sigmoid', kernel_initializer='uniform'))\n",
        "  #classifier.compile(optimizer='adam', loss='binary_crossentropy', metrics=['accuracy'])\n",
        " # return classifier */\n",
        "#Sclassifier = KerasClassifier(build_fn=buildclassifier, batch_size=10, epochs=100)\n",
        "#accuracies = cross_val_score(estimator = classifier, X=x_train, y= y_train, cv = 10, n_jobs = -1)\n"
      ],
      "execution_count": null,
      "outputs": []
    },
    {
      "cell_type": "code",
      "metadata": {
        "id": "JJX_EIDeZ6hY"
      },
      "source": [
        "#mean = accuracies.mean()  # to see the mean of the prediction\n",
        "#variance = accuracies.std() # to see the variance of the overfitting (low or high)"
      ],
      "execution_count": null,
      "outputs": []
    },
    {
      "cell_type": "code",
      "metadata": {
        "id": "0zBl_WA9Qstg"
      },
      "source": [
        ""
      ],
      "execution_count": null,
      "outputs": []
    },
    {
      "cell_type": "markdown",
      "metadata": {
        "id": "g-DshI5sQZJz"
      },
      "source": [
        "## Improving the ANNs"
      ]
    },
    {
      "cell_type": "code",
      "metadata": {
        "id": "SUA6qAMKbXVQ"
      },
      "source": [
        "#from keras.layers import Dropout"
      ],
      "execution_count": null,
      "outputs": []
    },
    {
      "cell_type": "code",
      "metadata": {
        "id": "gY2yoD_NbXaC"
      },
      "source": [
        ""
      ],
      "execution_count": null,
      "outputs": []
    },
    {
      "cell_type": "markdown",
      "metadata": {
        "id": "VLIfyIswQZjI"
      },
      "source": [
        "## Tuning the ANNs"
      ]
    },
    {
      "cell_type": "code",
      "metadata": {
        "id": "RWAleAtVeCTE"
      },
      "source": [
        "\n",
        "# Tuning the ANN\n",
        "from keras.wrappers.scikit_learn import KerasClassifier\n",
        "from sklearn.model_selection import GridSearchCV\n",
        "from keras.models import Sequential\n",
        "from keras.layers import Dense\n",
        "def build_classifier(optimizer):\n",
        "    classifier = Sequential()\n",
        "    classifier.add(Dense(units = 6, kernel_initializer = 'uniform', activation = 'relu', input_dim = 11))\n",
        "    classifier.add(Dense(units = 6, kernel_initializer = 'uniform', activation = 'relu'))\n",
        "    classifier.add(Dense(units = 1, kernel_initializer = 'uniform', activation = 'sigmoid'))\n",
        "    classifier.compile(optimizer = optimizer, loss = 'binary_crossentropy', metrics = ['accuracy'])\n",
        "    return classifier\n",
        "classifier = KerasClassifier(build_fn = build_classifier)\n",
        "parameters = {'batch_size': [25, 32],\n",
        "              'epochs': [100, 500],\n",
        "              'optimizer': ['adam', 'rmsprop']}\n",
        "grid_search = GridSearchCV(estimator = classifier,\n",
        "                           param_grid = parameters,\n",
        "                           scoring = 'accuracy',\n",
        "                           cv = 10)\n",
        "grid_search = grid_search.fit(X_train, y_train)\n",
        "best_parameters = grid_search.best_params_\n",
        "best_accuracy = grid_search.best_score_"
      ],
      "execution_count": null,
      "outputs": []
    }
  ]
}